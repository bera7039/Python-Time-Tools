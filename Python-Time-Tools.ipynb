{
 "cells": [
  {
   "cell_type": "code",
   "execution_count": 12,
   "id": "9b151029-ecdf-45e1-a9c6-a4d554f77017",
   "metadata": {},
   "outputs": [
    {
     "name": "stdin",
     "output_type": "stream",
     "text": [
      "Enter time in seconds: 5\n"
     ]
    },
    {
     "name": "stdout",
     "output_type": "stream",
     "text": [
      "Time's up\n"
     ]
    }
   ],
   "source": [
    "#python countdown timer\n",
    "import time\n",
    "\n",
    "def countdown(seconds):\n",
    "    while seconds > 0:\n",
    "         mins,secs = divmod(seconds,60)\n",
    "         timer_format = '{:02d}:{:02d}'.format(mins,secs)\n",
    "         print(timer_format,end = '\\r')\n",
    "         time.sleep(1)\n",
    "         seconds -= 1\n",
    "    print(\"Time's up\")\n",
    "\n",
    "#input from the user\n",
    "try:\n",
    "     total_seconds = int(input(\"Enter time in seconds:\"))\n",
    "     countdown(total_seconds)\n",
    "except ValueError:\n",
    "      print(\"Please enter a valid number\")"
   ]
  },
  {
   "cell_type": "code",
   "execution_count": 14,
   "id": "d9f670cb-3bb6-4588-ba6d-eb8aedf22a75",
   "metadata": {},
   "outputs": [
    {
     "name": "stdout",
     "output_type": "stream",
     "text": [
      "Press Enter to start the stopwatch\n"
     ]
    },
    {
     "name": "stdin",
     "output_type": "stream",
     "text": [
      " \n"
     ]
    },
    {
     "name": "stdout",
     "output_type": "stream",
     "text": [
      "Stopwatch started...Press Enter to stop\n"
     ]
    },
    {
     "name": "stdin",
     "output_type": "stream",
     "text": [
      " \n"
     ]
    },
    {
     "name": "stdout",
     "output_type": "stream",
     "text": [
      "Elapsed time : 9.36 seconds\n"
     ]
    }
   ],
   "source": [
    "#Stopwatch in python\n",
    "import time   #import the time module\n",
    "print(\"Press Enter to start the stopwatch\")\n",
    "input()   #wait for the user to press enter\n",
    "start_time = time.time()    #record the start time\n",
    "\n",
    "print(\"Stopwatch started...Press Enter to stop\")\n",
    "input()     #wait for the user to press enter again\n",
    "end_time = time.time()\n",
    "\n",
    "elapsed_time = end_time - start_time\n",
    "print(f\"Elapsed time : {elapsed_time:.2f} seconds\")\n"
   ]
  },
  {
   "cell_type": "code",
   "execution_count": null,
   "id": "b97cabd5-7893-4c52-8817-d637c0d5fb65",
   "metadata": {},
   "outputs": [
    {
     "name": "stdout",
     "output_type": "stream",
     "text": [
      "current Time: 20:38:04"
     ]
    }
   ],
   "source": [
    "#Digital clock in python(Live upadating)\n",
    "import time  #import the time module\n",
    "\n",
    "try:\n",
    "    while True:   #infinite loop for live clock\n",
    "        current_time = time.strftime('%H:%M:%S')   #Format current time\n",
    "        print(\"current Time:\", current_time,end = '\\r')   #overwrite line each second\n",
    "        time.sleep(1)   #pause for 1 second\n",
    "except KeyboardInterrupt:\n",
    "    print(\"\\nclock stopped.\")           #exit when user presses ctrl+c\n",
    "        "
   ]
  },
  {
   "cell_type": "code",
   "execution_count": null,
   "id": "fa5a79c7-9e0f-424b-9d00-71f88a261f64",
   "metadata": {},
   "outputs": [],
   "source": [
    "#Time Tracker App(for tasks)\n",
    "import time,csv\n",
    "\n",
    "with open('task_log.csv', 'a', newline=' ') as file:\n",
    "    writer = csv.writer(file)\n",
    "    while True:\n",
    "        task = input(\"Enter task name(or 'exit' to quit): \")\n",
    "        if task == 'exit'\n",
    "            break\n",
    "        start = time.time()\n",
    "        input(\"Press Enter to stop break\")\n",
    "        end = time.time()\n",
    "        duration = round((end-start)/60,2)\n",
    "        writer.writerow([task,duration])\n",
    "        print(f\"logged{task}-{duartion"
   ]
  }
 ],
 "metadata": {
  "kernelspec": {
   "display_name": "Python 3 (ipykernel)",
   "language": "python",
   "name": "python3"
  },
  "language_info": {
   "codemirror_mode": {
    "name": "ipython",
    "version": 3
   },
   "file_extension": ".py",
   "mimetype": "text/x-python",
   "name": "python",
   "nbconvert_exporter": "python",
   "pygments_lexer": "ipython3",
   "version": "3.13.5"
  }
 },
 "nbformat": 4,
 "nbformat_minor": 5
}
